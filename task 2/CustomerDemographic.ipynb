{
 "cells": [
  {
   "cell_type": "markdown",
   "metadata": {},
   "source": [
    "# 1.0 Existing Customer Demographic"
   ]
  },
  {
   "cell_type": "markdown",
   "metadata": {},
   "source": [
    "## Importing needed packages"
   ]
  },
  {
   "cell_type": "code",
   "execution_count": 1,
   "metadata": {},
   "outputs": [],
   "source": [
    "# Importing needed packages\n",
    "import pandas as pd\n",
    "import numpy as np\n",
    "import datetime\n",
    "from matplotlib.ticker import FuncFormatter\n",
    "import matplotlib.pyplot as plt\n",
    "from datetime import date\n",
    "import math as ma\n",
    "import warnings\n",
    "warnings.filterwarnings(\"ignore\")"
   ]
  },
  {
   "cell_type": "code",
   "execution_count": 2,
   "metadata": {},
   "outputs": [
    {
     "data": {
      "text/html": [
       "<div>\n",
       "<style scoped>\n",
       "    .dataframe tbody tr th:only-of-type {\n",
       "        vertical-align: middle;\n",
       "    }\n",
       "\n",
       "    .dataframe tbody tr th {\n",
       "        vertical-align: top;\n",
       "    }\n",
       "\n",
       "    .dataframe thead th {\n",
       "        text-align: right;\n",
       "    }\n",
       "</style>\n",
       "<table border=\"1\" class=\"dataframe\">\n",
       "  <thead>\n",
       "    <tr style=\"text-align: right;\">\n",
       "      <th></th>\n",
       "      <th>customer_id</th>\n",
       "      <th>first_name</th>\n",
       "      <th>last_name</th>\n",
       "      <th>gender</th>\n",
       "      <th>past_3_years_bike_related_purchases</th>\n",
       "      <th>DOB</th>\n",
       "      <th>Age</th>\n",
       "      <th>job_title</th>\n",
       "      <th>job_industry_category</th>\n",
       "      <th>wealth_segment</th>\n",
       "      <th>deceased_indicator</th>\n",
       "      <th>default</th>\n",
       "      <th>owns_car</th>\n",
       "      <th>tenure</th>\n",
       "    </tr>\n",
       "  </thead>\n",
       "  <tbody>\n",
       "    <tr>\n",
       "      <th>0</th>\n",
       "      <td>1</td>\n",
       "      <td>Laraine</td>\n",
       "      <td>Medendorp</td>\n",
       "      <td>F</td>\n",
       "      <td>93</td>\n",
       "      <td>1953-10-12</td>\n",
       "      <td>68</td>\n",
       "      <td>Executive Secretary</td>\n",
       "      <td>Health</td>\n",
       "      <td>Mass Customer</td>\n",
       "      <td>N</td>\n",
       "      <td>\"'</td>\n",
       "      <td>Yes</td>\n",
       "      <td>11.0</td>\n",
       "    </tr>\n",
       "    <tr>\n",
       "      <th>1</th>\n",
       "      <td>2</td>\n",
       "      <td>Eli</td>\n",
       "      <td>Bockman</td>\n",
       "      <td>Male</td>\n",
       "      <td>81</td>\n",
       "      <td>1980-12-16</td>\n",
       "      <td>41</td>\n",
       "      <td>Administrative Officer</td>\n",
       "      <td>Financial Services</td>\n",
       "      <td>Mass Customer</td>\n",
       "      <td>N</td>\n",
       "      <td>&lt;script&gt;alert('hi')&lt;/script&gt;</td>\n",
       "      <td>Yes</td>\n",
       "      <td>16.0</td>\n",
       "    </tr>\n",
       "    <tr>\n",
       "      <th>2</th>\n",
       "      <td>3</td>\n",
       "      <td>Arlin</td>\n",
       "      <td>Dearle</td>\n",
       "      <td>Male</td>\n",
       "      <td>61</td>\n",
       "      <td>1954-01-20</td>\n",
       "      <td>68</td>\n",
       "      <td>Recruiting Manager</td>\n",
       "      <td>Property</td>\n",
       "      <td>Mass Customer</td>\n",
       "      <td>N</td>\n",
       "      <td>2018-02-01 00:00:00</td>\n",
       "      <td>Yes</td>\n",
       "      <td>15.0</td>\n",
       "    </tr>\n",
       "    <tr>\n",
       "      <th>3</th>\n",
       "      <td>4</td>\n",
       "      <td>Talbot</td>\n",
       "      <td>NaN</td>\n",
       "      <td>Male</td>\n",
       "      <td>33</td>\n",
       "      <td>1961-10-03</td>\n",
       "      <td>60</td>\n",
       "      <td>NaN</td>\n",
       "      <td>IT</td>\n",
       "      <td>Mass Customer</td>\n",
       "      <td>N</td>\n",
       "      <td>() { _; } &gt;_[$($())] { touch /tmp/blns.shellsh...</td>\n",
       "      <td>No</td>\n",
       "      <td>7.0</td>\n",
       "    </tr>\n",
       "    <tr>\n",
       "      <th>4</th>\n",
       "      <td>5</td>\n",
       "      <td>Sheila-kathryn</td>\n",
       "      <td>Calton</td>\n",
       "      <td>Female</td>\n",
       "      <td>56</td>\n",
       "      <td>1977-05-13</td>\n",
       "      <td>44</td>\n",
       "      <td>Senior Editor</td>\n",
       "      <td>NaN</td>\n",
       "      <td>Affluent Customer</td>\n",
       "      <td>N</td>\n",
       "      <td>NIL</td>\n",
       "      <td>Yes</td>\n",
       "      <td>8.0</td>\n",
       "    </tr>\n",
       "    <tr>\n",
       "      <th>...</th>\n",
       "      <td>...</td>\n",
       "      <td>...</td>\n",
       "      <td>...</td>\n",
       "      <td>...</td>\n",
       "      <td>...</td>\n",
       "      <td>...</td>\n",
       "      <td>...</td>\n",
       "      <td>...</td>\n",
       "      <td>...</td>\n",
       "      <td>...</td>\n",
       "      <td>...</td>\n",
       "      <td>...</td>\n",
       "      <td>...</td>\n",
       "      <td>...</td>\n",
       "    </tr>\n",
       "    <tr>\n",
       "      <th>3995</th>\n",
       "      <td>3996</td>\n",
       "      <td>Rosalia</td>\n",
       "      <td>Halgarth</td>\n",
       "      <td>Female</td>\n",
       "      <td>8</td>\n",
       "      <td>1975-08-09</td>\n",
       "      <td>46</td>\n",
       "      <td>VP Product Management</td>\n",
       "      <td>Health</td>\n",
       "      <td>Mass Customer</td>\n",
       "      <td>N</td>\n",
       "      <td>-100</td>\n",
       "      <td>No</td>\n",
       "      <td>19.0</td>\n",
       "    </tr>\n",
       "    <tr>\n",
       "      <th>3996</th>\n",
       "      <td>3997</td>\n",
       "      <td>Blanch</td>\n",
       "      <td>Nisuis</td>\n",
       "      <td>Female</td>\n",
       "      <td>87</td>\n",
       "      <td>2001-07-13</td>\n",
       "      <td>20</td>\n",
       "      <td>Statistician II</td>\n",
       "      <td>Manufacturing</td>\n",
       "      <td>High Net Worth</td>\n",
       "      <td>N</td>\n",
       "      <td>â¦testâ§</td>\n",
       "      <td>Yes</td>\n",
       "      <td>1.0</td>\n",
       "    </tr>\n",
       "    <tr>\n",
       "      <th>3997</th>\n",
       "      <td>3998</td>\n",
       "      <td>Sarene</td>\n",
       "      <td>Woolley</td>\n",
       "      <td>U</td>\n",
       "      <td>60</td>\n",
       "      <td>NaT</td>\n",
       "      <td>0</td>\n",
       "      <td>Assistant Manager</td>\n",
       "      <td>IT</td>\n",
       "      <td>High Net Worth</td>\n",
       "      <td>N</td>\n",
       "      <td>NaN</td>\n",
       "      <td>No</td>\n",
       "      <td>NaN</td>\n",
       "    </tr>\n",
       "    <tr>\n",
       "      <th>3998</th>\n",
       "      <td>3999</td>\n",
       "      <td>Patrizius</td>\n",
       "      <td>NaN</td>\n",
       "      <td>Male</td>\n",
       "      <td>11</td>\n",
       "      <td>1973-10-24</td>\n",
       "      <td>48</td>\n",
       "      <td>NaN</td>\n",
       "      <td>Manufacturing</td>\n",
       "      <td>Affluent Customer</td>\n",
       "      <td>N</td>\n",
       "      <td>Â¡â¢Â£Â¢âÂ§Â¶â¢ÂªÂºââ</td>\n",
       "      <td>Yes</td>\n",
       "      <td>10.0</td>\n",
       "    </tr>\n",
       "    <tr>\n",
       "      <th>3999</th>\n",
       "      <td>4000</td>\n",
       "      <td>Kippy</td>\n",
       "      <td>Oldland</td>\n",
       "      <td>Male</td>\n",
       "      <td>76</td>\n",
       "      <td>1991-11-05</td>\n",
       "      <td>30</td>\n",
       "      <td>Software Engineer IV</td>\n",
       "      <td>NaN</td>\n",
       "      <td>Affluent Customer</td>\n",
       "      <td>N</td>\n",
       "      <td>0/0</td>\n",
       "      <td>No</td>\n",
       "      <td>11.0</td>\n",
       "    </tr>\n",
       "  </tbody>\n",
       "</table>\n",
       "<p>4000 rows × 14 columns</p>\n",
       "</div>"
      ],
      "text/plain": [
       "      customer_id      first_name  last_name  gender  \\\n",
       "0               1         Laraine  Medendorp       F   \n",
       "1               2             Eli    Bockman    Male   \n",
       "2               3           Arlin     Dearle    Male   \n",
       "3               4          Talbot        NaN    Male   \n",
       "4               5  Sheila-kathryn     Calton  Female   \n",
       "...           ...             ...        ...     ...   \n",
       "3995         3996         Rosalia   Halgarth  Female   \n",
       "3996         3997          Blanch     Nisuis  Female   \n",
       "3997         3998          Sarene    Woolley       U   \n",
       "3998         3999       Patrizius        NaN    Male   \n",
       "3999         4000           Kippy    Oldland    Male   \n",
       "\n",
       "      past_3_years_bike_related_purchases        DOB  Age  \\\n",
       "0                                      93 1953-10-12   68   \n",
       "1                                      81 1980-12-16   41   \n",
       "2                                      61 1954-01-20   68   \n",
       "3                                      33 1961-10-03   60   \n",
       "4                                      56 1977-05-13   44   \n",
       "...                                   ...        ...  ...   \n",
       "3995                                    8 1975-08-09   46   \n",
       "3996                                   87 2001-07-13   20   \n",
       "3997                                   60        NaT    0   \n",
       "3998                                   11 1973-10-24   48   \n",
       "3999                                   76 1991-11-05   30   \n",
       "\n",
       "                   job_title job_industry_category     wealth_segment  \\\n",
       "0        Executive Secretary                Health      Mass Customer   \n",
       "1     Administrative Officer    Financial Services      Mass Customer   \n",
       "2         Recruiting Manager              Property      Mass Customer   \n",
       "3                        NaN                    IT      Mass Customer   \n",
       "4              Senior Editor                   NaN  Affluent Customer   \n",
       "...                      ...                   ...                ...   \n",
       "3995   VP Product Management                Health      Mass Customer   \n",
       "3996         Statistician II         Manufacturing     High Net Worth   \n",
       "3997       Assistant Manager                    IT     High Net Worth   \n",
       "3998                     NaN         Manufacturing  Affluent Customer   \n",
       "3999    Software Engineer IV                   NaN  Affluent Customer   \n",
       "\n",
       "     deceased_indicator                                            default  \\\n",
       "0                     N                                                 \"'   \n",
       "1                     N                       <script>alert('hi')</script>   \n",
       "2                     N                                2018-02-01 00:00:00   \n",
       "3                     N  () { _; } >_[$($())] { touch /tmp/blns.shellsh...   \n",
       "4                     N                                                NIL   \n",
       "...                 ...                                                ...   \n",
       "3995                  N                                               -100   \n",
       "3996                  N                                           â¦testâ§   \n",
       "3997                  N                                                NaN   \n",
       "3998                  N                             Â¡â¢Â£Â¢âÂ§Â¶â¢ÂªÂºââ    \n",
       "3999                  N                                                0/0   \n",
       "\n",
       "     owns_car  tenure  \n",
       "0         Yes    11.0  \n",
       "1         Yes    16.0  \n",
       "2         Yes    15.0  \n",
       "3          No     7.0  \n",
       "4         Yes     8.0  \n",
       "...       ...     ...  \n",
       "3995       No    19.0  \n",
       "3996      Yes     1.0  \n",
       "3997       No     NaN  \n",
       "3998      Yes    10.0  \n",
       "3999       No    11.0  \n",
       "\n",
       "[4000 rows x 14 columns]"
      ]
     },
     "execution_count": 2,
     "metadata": {},
     "output_type": "execute_result"
    }
   ],
   "source": [
    "# read the xlsx file \n",
    "CustomerDemo = pd.read_excel('CustomerDemographic.xlsx')\n",
    "CustomerDemo"
   ]
  },
  {
   "cell_type": "code",
   "execution_count": 3,
   "metadata": {},
   "outputs": [
    {
     "name": "stdout",
     "output_type": "stream",
     "text": [
      "[0, 0, 125, 0, 0, 87, 0, 506, 656, 0, 0, 302, 0, 87] 14\n"
     ]
    }
   ],
   "source": [
    "# check if there is NA for each columns\n",
    "\n",
    "def NA_checker():\n",
    "    res = []\n",
    "    temp = list(CustomerDemo)\n",
    "    for x in temp:\n",
    "        res.append(CustomerDemo[x].isna().sum())\n",
    "    return res\n",
    "\n",
    "listofNAN = NA_checker()\n",
    "print(listofNAN, len(listofNAN))"
   ]
  },
  {
   "cell_type": "markdown",
   "metadata": {},
   "source": [
    "## Analysing the gender vs purchased bikes"
   ]
  },
  {
   "cell_type": "code",
   "execution_count": 4,
   "metadata": {},
   "outputs": [
    {
     "name": "stdout",
     "output_type": "stream",
     "text": [
      "[2039, 1873, 88]\n"
     ]
    }
   ],
   "source": [
    "# Let it be Female, Male, Unknown\n",
    "gender = [0,0,0] \n",
    "for each in CustomerDemo['gender']:\n",
    "    if each[0] == \"F\":\n",
    "        gender[0] += 1\n",
    "    elif each[0] == \"M\":\n",
    "        gender[1] += 1\n",
    "    else:\n",
    "        gender[2] += 1\n",
    "        \n",
    "print(gender)"
   ]
  },
  {
   "cell_type": "code",
   "execution_count": 5,
   "metadata": {},
   "outputs": [
    {
     "name": "stdout",
     "output_type": "stream",
     "text": [
      "[98357, 93483, 3718]\n"
     ]
    }
   ],
   "source": [
    "# Let the first be Female and F, second be Male and M and lastly Unknown (U)\n",
    "bike = [0,0,0]\n",
    "bike[0] += CustomerDemo['past_3_years_bike_related_purchases'][CustomerDemo['gender'] == 'Female'].sum() + CustomerDemo['past_3_years_bike_related_purchases'][CustomerDemo['gender'] == 'F'].sum()\n",
    "bike[1] += CustomerDemo['past_3_years_bike_related_purchases'][CustomerDemo['gender'] == 'Male'].sum() + CustomerDemo['past_3_years_bike_related_purchases'][CustomerDemo['gender'] == 'M'].sum()\n",
    "bike[2] += CustomerDemo['past_3_years_bike_related_purchases'][CustomerDemo['gender'] == 'U'].sum()\n",
    "\n",
    "print(bike)"
   ]
  },
  {
   "cell_type": "code",
   "execution_count": 6,
   "metadata": {},
   "outputs": [
    {
     "data": {
      "image/png": "[encoded data removed]",
      "text/plain": [
       "<Figure size 432x288 with 1 Axes>"
      ]
     },
     "metadata": {
      "needs_background": "light"
     },
     "output_type": "display_data"
    }
   ],
   "source": [
    "graph0 = [gender[0], bike[0], gender[1], bike[1], gender[2], bike[2]]\n",
    "graph1 = [gender[0]*10, bike[0], gender[1]*10, bike[1], gender[2]*10, bike[2]]\n",
    "colour = (0.3,0.1,0.4,0.6)\n",
    "\n",
    "def gf(x, pos):\n",
    "    #'The two args are the value and gender'\n",
    "    return int(x)\n",
    "\n",
    "#scale gender up by 10 for clearer visualization\n",
    "formatter = FuncFormatter(gf)\n",
    "x = np.arange(6)\n",
    "fig, ax = plt.subplots()\n",
    "ax.set_ylabel('Number of people')\n",
    "ax.set_title('Gender and purchased bikes by gender')\n",
    "ax.yaxis.set_major_formatter(formatter)\n",
    "plt.bar(x, graph1, color = colour)\n",
    "for i in range(len(gender*2)):\n",
    "    plt.text(x = i-0.2, y = graph1[i]+0.1, s = graph0[i], size = 10)\n",
    "\n",
    "# F's P = Female's Purchase\n",
    "# M's P = Male's Purchase \n",
    "# U's P = Unknown's Purchase\n",
    "plt.xticks(x, ('Female', \"F's P\", 'Male', \"M's P\", 'Unknown', \"U's P\"))\n",
    "plt.show()"
   ]
  },
  {
   "cell_type": "code",
   "execution_count": 7,
   "metadata": {},
   "outputs": [
    {
     "data": {
      "image/png": "[encoded data removed]",
      "text/plain": [
       "<Figure size 432x288 with 1 Axes>"
      ]
     },
     "metadata": {
      "needs_background": "light"
     },
     "output_type": "display_data"
    }
   ],
   "source": [
    "# to calculate the percentage of purchased bikes classified by gender\n",
    "avg  = [0,0,0]\n",
    "total   = sum(bike)\n",
    "for i in range(len(avg)):\n",
    "    avg[i] += (round(bike[i]/total,3)*100) \n",
    "\n",
    "x1 = np.arange(3)\n",
    "fig1, ax1 = plt.subplots()\n",
    "ax1.set_title('Percentage of purchased bikes classified by gender')\n",
    "ax1.set_ylabel('Percentage')\n",
    "plt.bar(x1, avg, color = colour)\n",
    "for i in range(len(avg)):\n",
    "    plt.text(x = i-0.15, y = avg[i], s = avg[i], size = 10)\n",
    "\n",
    "plt.xticks(x1, ('Female', 'Male', 'Unknown'))\n",
    "plt.show()"
   ]
  },
  {
   "cell_type": "markdown",
   "metadata": {},
   "source": [
    "## Analysing the age vs purchased bikes"
   ]
  },
  {
   "cell_type": "code",
   "execution_count": 8,
   "metadata": {},
   "outputs": [
    {
     "name": "stdout",
     "output_type": "stream",
     "text": [
      "[2039, 1873, 88]\n"
     ]
    }
   ],
   "source": [
    "# to find out the average for female, male and unknown gender\n",
    "stdv = []\n",
    "total = 0\n",
    "temp = [0,0,0]\n",
    "\n",
    "for each in CustomerDemo['gender']:\n",
    "    j = 1\n",
    "    if each[0] == \"F\" and CustomerDemo['Age'][j] != 0:\n",
    "        total += CustomerDemo['Age'][j]\n",
    "        stdv.append((CustomerDemo['Age'][j]))\n",
    "        temp[0] += 1\n",
    "    elif each[0] == \"M\" and CustomerDemo['Age'][j] != 0:\n",
    "        total += CustomerDemo['Age'][j]\n",
    "        stdv.append((CustomerDemo['Age'][j]))\n",
    "        temp[1] += 1\n",
    "    elif CustomerDemo['Age'][j] != 0:\n",
    "        total += CustomerDemo['Age'][j]\n",
    "        stdv.append((CustomerDemo['Age'][j]))\n",
    "        temp[2] += 1\n",
    "    j+=1\n",
    "    \n",
    "print(temp)\n",
    "# since the count of unknown gender is relatively low compared to female and male, will not take into account of \n",
    "# gender u"
   ]
  },
  {
   "cell_type": "code",
   "execution_count": 9,
   "metadata": {},
   "outputs": [
    {
     "name": "stdout",
     "output_type": "stream",
     "text": [
      "42.0\n"
     ]
    }
   ],
   "source": [
    "# to calculate the average age in general\n",
    "average = round(total/(temp[0]+ temp[1]),0)\n",
    "stdv_val = 34.0\n",
    "print(average)"
   ]
  },
  {
   "cell_type": "markdown",
   "metadata": {},
   "source": [
    "The average age is 42\n",
    "The standard deviation of age is 34"
   ]
  },
  {
   "cell_type": "code",
   "execution_count": 17,
   "metadata": {},
   "outputs": [
    {
     "name": "stdout",
     "output_type": "stream",
     "text": [
      "25.0 42.0 59.0\n"
     ]
    }
   ],
   "source": [
    "#purchases from age 42 - 34/2, 42, 42 + 34/2 \n",
    "age_dict = {}\n",
    "f1  = []\n",
    "bf1 = []\n",
    "f2  = []\n",
    "bf2 = []\n",
    "f3  = []\n",
    "bf3 = []\n",
    "f4  = []\n",
    "bf4 = []\n",
    "m1  = []\n",
    "bm1 = []\n",
    "m2  = []\n",
    "bm2 = []\n",
    "m3  = []\n",
    "bm3 = []\n",
    "m4  = []\n",
    "bm4 = []\n",
    "fq = average - stdv_val/2\n",
    "sq = average\n",
    "tq = average + stdv_val/2\n",
    "print(fq, sq, tq)\n",
    "\n",
    "for each in CustomerDemo['gender']:\n",
    "    counter = 1\n",
    "    temp = int(CustomerDemo['Age'][counter])\n",
    "    bkt  = int(CustomerDemo['past_3_years_bike_related_purchases'][counter])\n",
    "    if each[0] == \"F\" and temp != 0:\n",
    "        if(temp <= fq):\n",
    "            f1.append(temp)\n",
    "            bf1.append(bkt)\n",
    "        elif(fq < temp and temp <= sq):\n",
    "            f2.append(temp)\n",
    "            bf2.append(bkt)\n",
    "        elif(sq < temp and temp <= tq):\n",
    "            f3.append(temp)\n",
    "            bf3.append(bkt)\n",
    "        elif(tq < temp):\n",
    "            f4.append(temp)\n",
    "            bf4.append(bkt)\n",
    "    elif each[0] == \"M\" and temp != 0:\n",
    "        if(temp <= fq):\n",
    "            m1.append(temp)\n",
    "            bm1.append(bkt)\n",
    "        elif(fq < temp and temp <= sq):\n",
    "            m2.append(temp)\n",
    "            bm2.append(bkt)\n",
    "        elif(sq < temp and temp <= tq):\n",
    "            m3.append(temp)\n",
    "            bm3.append(bkt)\n",
    "        elif(tq < temp):\n",
    "            m4.append(temp)\n",
    "            bm4.append(bkt)\n",
    "    counter += 1\n",
    "    \n",
    "dtt = {\"Female1\":f1,\n",
    "       \"Female2\":f2,\n",
    "       \"Female3\":f3,\n",
    "       \"Female4\":f4,\n",
    "       \"Male1\":m1,\n",
    "       \"Male2\":m2,\n",
    "       \"Male3\":m3,\n",
    "       \"Male4\":m4,\n",
    "      }"
   ]
  },
  {
   "cell_type": "code",
   "execution_count": 22,
   "metadata": {},
   "outputs": [
    {
     "name": "stdout",
     "output_type": "stream",
     "text": [
      "273 775 778 213\n"
     ]
    }
   ],
   "source": [
    "print(len(dtt[\"Female1\"]), len(dtt[\"Female2\"]), len(dtt[\"Female3\"]), len(dtt[\"Female4\"]))"
   ]
  },
  {
   "cell_type": "code",
   "execution_count": 23,
   "metadata": {},
   "outputs": [
    {
     "name": "stdout",
     "output_type": "stream",
     "text": [
      "259 747 653 213\n"
     ]
    }
   ],
   "source": [
    "print(len(dtt[\"Male1\"]), len(dtt[\"Male2\"]), len(dtt[\"Male3\"]), len(dtt[\"Male4\"]))"
   ]
  },
  {
   "cell_type": "code",
   "execution_count": 24,
   "metadata": {},
   "outputs": [
    {
     "data": {
      "image/png": "[encoded data removed]",
      "text/plain": [
       "<Figure size 432x288 with 1 Axes>"
      ]
     },
     "metadata": {
      "needs_background": "light"
     },
     "output_type": "display_data"
    }
   ],
   "source": [
    "graphgen = [273, 259, 775, 747, 778, 653, 213, 213]\n",
    "colorr = (0.7,0.7,0.7,0.7)\n",
    "\n",
    "x2 = np.arange(8)\n",
    "fig2, ax2 = plt.subplots()\n",
    "ax2.set_ylabel('Number of people')\n",
    "plt.bar(x2, graphgen, color = colorr)\n",
    "for i in range(len(graphgen)):\n",
    "    plt.text(x = i-0.2, y = graphgen[i]+0.1, s = graphgen[i], size = 10)\n",
    "\n",
    "plt.xticks(x2, ('Fq1', \"Mq1\", 'Fq2', \"Mq2\", 'Fq3', \"Mq3\", 'Fq4', \"Mq4\"))\n",
    "plt.show()"
   ]
  },
  {
   "cell_type": "markdown",
   "metadata": {},
   "source": [
    "## Checking the job industry category of our customer"
   ]
  },
  {
   "cell_type": "code",
   "execution_count": 26,
   "metadata": {},
   "outputs": [
    {
     "data": {
      "text/plain": [
       "Manufacturing         799\n",
       "Financial Services    774\n",
       "Health                602\n",
       "Retail                358\n",
       "Property              267\n",
       "IT                    223\n",
       "Entertainment         136\n",
       "Argiculture           113\n",
       "Telecommunications     72\n",
       "Name: job_industry_category, dtype: int64"
      ]
     },
     "execution_count": 26,
     "metadata": {},
     "output_type": "execute_result"
    }
   ],
   "source": [
    "CustomerDemo[\"job_industry_category\"].value_counts()"
   ]
  },
  {
   "cell_type": "code",
   "execution_count": 28,
   "metadata": {},
   "outputs": [
    {
     "data": {
      "image/png": "[encoded data removed]",
      "text/plain": [
       "<Figure size 432x288 with 1 Axes>"
      ]
     },
     "metadata": {
      "needs_background": "light"
     },
     "output_type": "display_data"
    }
   ],
   "source": [
    "# plotting the bar chart\n",
    "val = [799, 774, 602, 358, 267, 223, 136, 113, 72]\n",
    "colorr = (0.7,0.7,0.7,0.7)\n",
    "\n",
    "x3 = np.arange(9)\n",
    "fig3, ax3 = plt.subplots()\n",
    "ax3.set_ylabel('Number of people')\n",
    "plt.bar(x3, val, color = colorr, width = 0.4)\n",
    "for i in range(len(val)):\n",
    "    plt.text(x = i-0.25, y = val[i]+0.1, s = val[i], size = 10)\n",
    "\n",
    "plt.xticks(x3, (\"Manufac\", \"Finance\", \"Health\", \"Retail\", \"Property\", \"IT\", \"Entertain\", \"Agricul\", \"Telecom\"))\n",
    "plt.xticks(rotation=70)\n",
    "plt.show()"
   ]
  },
  {
   "cell_type": "markdown",
   "metadata": {},
   "source": [
    "## Checking the wealth segment of our customer"
   ]
  },
  {
   "cell_type": "code",
   "execution_count": 31,
   "metadata": {},
   "outputs": [
    {
     "data": {
      "text/plain": [
       "Mass Customer        2000\n",
       "High Net Worth       1021\n",
       "Affluent Customer     979\n",
       "Name: wealth_segment, dtype: int64"
      ]
     },
     "execution_count": 31,
     "metadata": {},
     "output_type": "execute_result"
    }
   ],
   "source": [
    "CustomerDemo[\"wealth_segment\"].value_counts()"
   ]
  },
  {
   "cell_type": "code",
   "execution_count": 40,
   "metadata": {},
   "outputs": [
    {
     "name": "stdout",
     "output_type": "stream",
     "text": [
      "Mass:  261 777 697 219\n",
      "High:  125 399 361 111\n",
      "Affluent:  146 346 470 0\n"
     ]
    }
   ],
   "source": [
    "#split into 3: M (Mass), H(High), A(Affluent)\n",
    "count = 1\n",
    "wsm = {\"q1\":[], \"q2\":[], \"q3\":[], \"q4\":[]}\n",
    "wsh = {\"q1\":[], \"q2\":[], \"q3\":[], \"q4\":[]}\n",
    "wsa = {\"q1\":[], \"q2\":[], \"q3\":[], \"q4\":[]}\n",
    "\n",
    "\n",
    "for each in CustomerDemo['wealth_segment']:\n",
    "    temp = int(CustomerDemo['Age'][count])\n",
    "    if each[0] == \"M\" and temp != 0:\n",
    "        if(temp <= fq):\n",
    "            wsm[\"q1\"].append(temp)\n",
    "        elif(fq < temp and temp <= sq):\n",
    "            wsm[\"q2\"].append(temp)\n",
    "        elif(sq < temp and temp <= tq):\n",
    "            wsm[\"q3\"].append(temp)\n",
    "        elif(tq < temp):\n",
    "            wsm[\"q4\"].append(temp)\n",
    "    elif each[0] == \"H\" and temp != 0:\n",
    "        if(temp <= fq):\n",
    "            wsh[\"q1\"].append(temp)\n",
    "        elif(fq < temp and temp <= sq):\n",
    "            wsh[\"q2\"].append(temp)\n",
    "        elif(sq < temp and temp <= tq):\n",
    "            wsh[\"q3\"].append(temp)\n",
    "        elif(tq < temp):\n",
    "            wsh[\"q4\"].append(temp)\n",
    "    elif each[0] == \"A\" and temp != 0:\n",
    "        if(temp <= fq):\n",
    "            wsa[\"q1\"].append(temp)\n",
    "        elif(fq < temp and temp <= sq):\n",
    "            wsa[\"q2\"].append(temp)\n",
    "        elif(sq < temp and temp <= tq):\n",
    "            wsa[\"q3\"].append(temp)\n",
    "        elif(tq < temp):\n",
    "            wsa[\"q3\"].append(temp)\n",
    "    count += 1\n",
    "print(\"Mass: \", len(wsm[\"q1\"]), len(wsm[\"q2\"]), len(wsm[\"q3\"]), len(wsm[\"q4\"]))\n",
    "print(\"High: \", len(wsh[\"q1\"]), len(wsh[\"q2\"]), len(wsh[\"q3\"]), len(wsh[\"q4\"]))\n",
    "print(\"Affluent: \", len(wsa[\"q1\"]), len(wsa[\"q2\"]), len(wsa[\"q3\"]), len(wsa[\"q4\"]))"
   ]
  },
  {
   "cell_type": "code",
   "execution_count": 44,
   "metadata": {},
   "outputs": [
    {
     "data": {
      "image/png": "[encoded data removed]",
      "text/plain": [
       "<Figure size 432x288 with 1 Axes>"
      ]
     },
     "metadata": {
      "needs_background": "light"
     },
     "output_type": "display_data"
    }
   ],
   "source": [
    "N = 4\n",
    "mass = [261, 777, 697, 219]\n",
    "high = [125, 399, 361, 111]\n",
    "affluent = [146, 346, 470, 0]\n",
    "\n",
    "bars = np.add(mass, high).tolist()\n",
    "r = [0,1,2,3,4]\n",
    "\n",
    "ind   = np.arange(N) \n",
    "width = 0.35\n",
    "\n",
    "p1 = plt.bar(ind, mass, width)\n",
    "p2 = plt.bar(ind, high, width,  bottom=mass)\n",
    "p3 = plt.bar(ind, affluent, width,  bottom=bars)\n",
    "\n",
    "plt.ylabel('Number of people')\n",
    "plt.title('Wealth segments by age')\n",
    "plt.xticks(ind, ('q1', 'q2', 'q3', 'q4'))\n",
    "plt.yticks(np.arange(0, 1500, 100))\n",
    "plt.legend((p1[0], p2[0], p3[0]), ('Mass', 'High Net', 'Affluent'))\n",
    "plt.show()"
   ]
  },
  {
   "cell_type": "markdown",
   "metadata": {},
   "source": [
    "## Checking how many of our customer own a car"
   ]
  },
  {
   "cell_type": "code",
   "execution_count": 45,
   "metadata": {},
   "outputs": [
    {
     "data": {
      "text/plain": [
       "Yes    2024\n",
       "No     1976\n",
       "Name: owns_car, dtype: int64"
      ]
     },
     "execution_count": 45,
     "metadata": {},
     "output_type": "execute_result"
    }
   ],
   "source": [
    "CustomerDemo[\"owns_car\"].value_counts()"
   ]
  },
  {
   "cell_type": "raw",
   "metadata": {},
   "source": [
    "2024 of our customer owns a car while 1976 of our customer do not have a car"
   ]
  },
  {
   "cell_type": "code",
   "execution_count": 77,
   "metadata": {},
   "outputs": [
    {
     "data": {
      "image/png": "[encoded data removed]",
      "text/plain": [
       "<Figure size 432x288 with 1 Axes>"
      ]
     },
     "metadata": {},
     "output_type": "display_data"
    }
   ],
   "source": [
    "y = np.array([2024, 1976])\n",
    "mylabels = [\"Yes\", \"No\"]\n",
    "plt.pie(y, labels = mylabels)\n",
    "plt.show() "
   ]
  },
  {
   "cell_type": "markdown",
   "metadata": {},
   "source": [
    "# 2.0 New Customer Demographic"
   ]
  },
  {
   "cell_type": "code",
   "execution_count": 46,
   "metadata": {},
   "outputs": [
    {
     "data": {
      "text/html": [
       "<div>\n",
       "<style scoped>\n",
       "    .dataframe tbody tr th:only-of-type {\n",
       "        vertical-align: middle;\n",
       "    }\n",
       "\n",
       "    .dataframe tbody tr th {\n",
       "        vertical-align: top;\n",
       "    }\n",
       "\n",
       "    .dataframe thead th {\n",
       "        text-align: right;\n",
       "    }\n",
       "</style>\n",
       "<table border=\"1\" class=\"dataframe\">\n",
       "  <thead>\n",
       "    <tr style=\"text-align: right;\">\n",
       "      <th></th>\n",
       "      <th>first_name</th>\n",
       "      <th>last_name</th>\n",
       "      <th>gender</th>\n",
       "      <th>past_3_years_bike_related_purchases</th>\n",
       "      <th>DOB</th>\n",
       "      <th>Age</th>\n",
       "      <th>job_title</th>\n",
       "      <th>job_industry_category</th>\n",
       "      <th>wealth_segment</th>\n",
       "      <th>deceased_indicator</th>\n",
       "      <th>...</th>\n",
       "      <th>state</th>\n",
       "      <th>country</th>\n",
       "      <th>property_valuation</th>\n",
       "      <th>Unnamed: 17</th>\n",
       "      <th>Unnamed: 18</th>\n",
       "      <th>Unnamed: 19</th>\n",
       "      <th>Unnamed: 20</th>\n",
       "      <th>Unnamed: 21</th>\n",
       "      <th>Rank</th>\n",
       "      <th>Value</th>\n",
       "    </tr>\n",
       "  </thead>\n",
       "  <tbody>\n",
       "    <tr>\n",
       "      <th>0</th>\n",
       "      <td>Chickie</td>\n",
       "      <td>Brister</td>\n",
       "      <td>Male</td>\n",
       "      <td>86</td>\n",
       "      <td>1957-07-12</td>\n",
       "      <td>64</td>\n",
       "      <td>General Manager</td>\n",
       "      <td>Manufacturing</td>\n",
       "      <td>Mass Customer</td>\n",
       "      <td>N</td>\n",
       "      <td>...</td>\n",
       "      <td>QLD</td>\n",
       "      <td>Australia</td>\n",
       "      <td>6</td>\n",
       "      <td>0.92</td>\n",
       "      <td>1.1500</td>\n",
       "      <td>1.43750</td>\n",
       "      <td>1.221875</td>\n",
       "      <td>1</td>\n",
       "      <td>1</td>\n",
       "      <td>1.718750</td>\n",
       "    </tr>\n",
       "    <tr>\n",
       "      <th>1</th>\n",
       "      <td>Morly</td>\n",
       "      <td>Genery</td>\n",
       "      <td>Male</td>\n",
       "      <td>69</td>\n",
       "      <td>1970-03-22</td>\n",
       "      <td>51</td>\n",
       "      <td>Structural Engineer</td>\n",
       "      <td>Property</td>\n",
       "      <td>Mass Customer</td>\n",
       "      <td>N</td>\n",
       "      <td>...</td>\n",
       "      <td>NSW</td>\n",
       "      <td>Australia</td>\n",
       "      <td>11</td>\n",
       "      <td>1.00</td>\n",
       "      <td>1.0000</td>\n",
       "      <td>1.25000</td>\n",
       "      <td>1.062500</td>\n",
       "      <td>1</td>\n",
       "      <td>1</td>\n",
       "      <td>1.718750</td>\n",
       "    </tr>\n",
       "    <tr>\n",
       "      <th>2</th>\n",
       "      <td>Ardelis</td>\n",
       "      <td>Forrester</td>\n",
       "      <td>Female</td>\n",
       "      <td>10</td>\n",
       "      <td>1974-08-28</td>\n",
       "      <td>47</td>\n",
       "      <td>Senior Cost Accountant</td>\n",
       "      <td>Financial Services</td>\n",
       "      <td>Affluent Customer</td>\n",
       "      <td>N</td>\n",
       "      <td>...</td>\n",
       "      <td>VIC</td>\n",
       "      <td>Australia</td>\n",
       "      <td>5</td>\n",
       "      <td>0.90</td>\n",
       "      <td>0.9000</td>\n",
       "      <td>0.90000</td>\n",
       "      <td>0.900000</td>\n",
       "      <td>1</td>\n",
       "      <td>1</td>\n",
       "      <td>1.718750</td>\n",
       "    </tr>\n",
       "    <tr>\n",
       "      <th>3</th>\n",
       "      <td>Lucine</td>\n",
       "      <td>Stutt</td>\n",
       "      <td>Female</td>\n",
       "      <td>64</td>\n",
       "      <td>1979-01-28</td>\n",
       "      <td>43</td>\n",
       "      <td>Account Representative III</td>\n",
       "      <td>Manufacturing</td>\n",
       "      <td>Affluent Customer</td>\n",
       "      <td>N</td>\n",
       "      <td>...</td>\n",
       "      <td>QLD</td>\n",
       "      <td>Australia</td>\n",
       "      <td>1</td>\n",
       "      <td>1.03</td>\n",
       "      <td>1.2875</td>\n",
       "      <td>1.28750</td>\n",
       "      <td>1.287500</td>\n",
       "      <td>4</td>\n",
       "      <td>4</td>\n",
       "      <td>1.703125</td>\n",
       "    </tr>\n",
       "    <tr>\n",
       "      <th>4</th>\n",
       "      <td>Melinda</td>\n",
       "      <td>Hadlee</td>\n",
       "      <td>Female</td>\n",
       "      <td>34</td>\n",
       "      <td>1965-09-21</td>\n",
       "      <td>56</td>\n",
       "      <td>Financial Analyst</td>\n",
       "      <td>Financial Services</td>\n",
       "      <td>Affluent Customer</td>\n",
       "      <td>N</td>\n",
       "      <td>...</td>\n",
       "      <td>NSW</td>\n",
       "      <td>Australia</td>\n",
       "      <td>9</td>\n",
       "      <td>0.78</td>\n",
       "      <td>0.7800</td>\n",
       "      <td>0.97500</td>\n",
       "      <td>0.975000</td>\n",
       "      <td>4</td>\n",
       "      <td>4</td>\n",
       "      <td>1.703125</td>\n",
       "    </tr>\n",
       "    <tr>\n",
       "      <th>...</th>\n",
       "      <td>...</td>\n",
       "      <td>...</td>\n",
       "      <td>...</td>\n",
       "      <td>...</td>\n",
       "      <td>...</td>\n",
       "      <td>...</td>\n",
       "      <td>...</td>\n",
       "      <td>...</td>\n",
       "      <td>...</td>\n",
       "      <td>...</td>\n",
       "      <td>...</td>\n",
       "      <td>...</td>\n",
       "      <td>...</td>\n",
       "      <td>...</td>\n",
       "      <td>...</td>\n",
       "      <td>...</td>\n",
       "      <td>...</td>\n",
       "      <td>...</td>\n",
       "      <td>...</td>\n",
       "      <td>...</td>\n",
       "      <td>...</td>\n",
       "    </tr>\n",
       "    <tr>\n",
       "      <th>995</th>\n",
       "      <td>Ferdinand</td>\n",
       "      <td>Romanetti</td>\n",
       "      <td>Male</td>\n",
       "      <td>60</td>\n",
       "      <td>1959-10-07</td>\n",
       "      <td>62</td>\n",
       "      <td>Paralegal</td>\n",
       "      <td>Financial Services</td>\n",
       "      <td>Affluent Customer</td>\n",
       "      <td>N</td>\n",
       "      <td>...</td>\n",
       "      <td>NSW</td>\n",
       "      <td>Australia</td>\n",
       "      <td>7</td>\n",
       "      <td>0.90</td>\n",
       "      <td>0.9000</td>\n",
       "      <td>0.90000</td>\n",
       "      <td>0.900000</td>\n",
       "      <td>996</td>\n",
       "      <td>996</td>\n",
       "      <td>0.374000</td>\n",
       "    </tr>\n",
       "    <tr>\n",
       "      <th>996</th>\n",
       "      <td>Burk</td>\n",
       "      <td>Wortley</td>\n",
       "      <td>Male</td>\n",
       "      <td>22</td>\n",
       "      <td>2001-10-17</td>\n",
       "      <td>20</td>\n",
       "      <td>Senior Sales Associate</td>\n",
       "      <td>Health</td>\n",
       "      <td>Mass Customer</td>\n",
       "      <td>N</td>\n",
       "      <td>...</td>\n",
       "      <td>NSW</td>\n",
       "      <td>Australia</td>\n",
       "      <td>10</td>\n",
       "      <td>0.91</td>\n",
       "      <td>0.9100</td>\n",
       "      <td>1.13750</td>\n",
       "      <td>0.966875</td>\n",
       "      <td>997</td>\n",
       "      <td>997</td>\n",
       "      <td>0.357000</td>\n",
       "    </tr>\n",
       "    <tr>\n",
       "      <th>997</th>\n",
       "      <td>Melloney</td>\n",
       "      <td>Temby</td>\n",
       "      <td>Female</td>\n",
       "      <td>17</td>\n",
       "      <td>1954-10-05</td>\n",
       "      <td>67</td>\n",
       "      <td>Budget/Accounting Analyst IV</td>\n",
       "      <td>Financial Services</td>\n",
       "      <td>Affluent Customer</td>\n",
       "      <td>N</td>\n",
       "      <td>...</td>\n",
       "      <td>QLD</td>\n",
       "      <td>Australia</td>\n",
       "      <td>2</td>\n",
       "      <td>0.45</td>\n",
       "      <td>0.5625</td>\n",
       "      <td>0.56250</td>\n",
       "      <td>0.562500</td>\n",
       "      <td>997</td>\n",
       "      <td>997</td>\n",
       "      <td>0.357000</td>\n",
       "    </tr>\n",
       "    <tr>\n",
       "      <th>998</th>\n",
       "      <td>Dickie</td>\n",
       "      <td>Cubbini</td>\n",
       "      <td>Male</td>\n",
       "      <td>30</td>\n",
       "      <td>1952-12-17</td>\n",
       "      <td>69</td>\n",
       "      <td>Financial Advisor</td>\n",
       "      <td>Financial Services</td>\n",
       "      <td>Mass Customer</td>\n",
       "      <td>N</td>\n",
       "      <td>...</td>\n",
       "      <td>QLD</td>\n",
       "      <td>Australia</td>\n",
       "      <td>2</td>\n",
       "      <td>0.55</td>\n",
       "      <td>0.6875</td>\n",
       "      <td>0.68750</td>\n",
       "      <td>0.584375</td>\n",
       "      <td>997</td>\n",
       "      <td>997</td>\n",
       "      <td>0.357000</td>\n",
       "    </tr>\n",
       "    <tr>\n",
       "      <th>999</th>\n",
       "      <td>Sylas</td>\n",
       "      <td>Duffill</td>\n",
       "      <td>Male</td>\n",
       "      <td>56</td>\n",
       "      <td>1955-10-02</td>\n",
       "      <td>66</td>\n",
       "      <td>Staff Accountant IV</td>\n",
       "      <td>Property</td>\n",
       "      <td>Mass Customer</td>\n",
       "      <td>N</td>\n",
       "      <td>...</td>\n",
       "      <td>NSW</td>\n",
       "      <td>Australia</td>\n",
       "      <td>9</td>\n",
       "      <td>1.06</td>\n",
       "      <td>1.3250</td>\n",
       "      <td>1.65625</td>\n",
       "      <td>1.407813</td>\n",
       "      <td>1000</td>\n",
       "      <td>1000</td>\n",
       "      <td>0.340000</td>\n",
       "    </tr>\n",
       "  </tbody>\n",
       "</table>\n",
       "<p>1000 rows × 24 columns</p>\n",
       "</div>"
      ],
      "text/plain": [
       "    first_name  last_name  gender  past_3_years_bike_related_purchases  \\\n",
       "0      Chickie    Brister    Male                                   86   \n",
       "1        Morly     Genery    Male                                   69   \n",
       "2      Ardelis  Forrester  Female                                   10   \n",
       "3       Lucine      Stutt  Female                                   64   \n",
       "4      Melinda     Hadlee  Female                                   34   \n",
       "..         ...        ...     ...                                  ...   \n",
       "995  Ferdinand  Romanetti    Male                                   60   \n",
       "996       Burk    Wortley    Male                                   22   \n",
       "997   Melloney      Temby  Female                                   17   \n",
       "998     Dickie    Cubbini    Male                                   30   \n",
       "999      Sylas    Duffill    Male                                   56   \n",
       "\n",
       "           DOB  Age                     job_title job_industry_category  \\\n",
       "0   1957-07-12   64               General Manager         Manufacturing   \n",
       "1   1970-03-22   51           Structural Engineer              Property   \n",
       "2   1974-08-28   47        Senior Cost Accountant    Financial Services   \n",
       "3   1979-01-28   43    Account Representative III         Manufacturing   \n",
       "4   1965-09-21   56             Financial Analyst    Financial Services   \n",
       "..         ...  ...                           ...                   ...   \n",
       "995 1959-10-07   62                     Paralegal    Financial Services   \n",
       "996 2001-10-17   20        Senior Sales Associate                Health   \n",
       "997 1954-10-05   67  Budget/Accounting Analyst IV    Financial Services   \n",
       "998 1952-12-17   69             Financial Advisor    Financial Services   \n",
       "999 1955-10-02   66           Staff Accountant IV              Property   \n",
       "\n",
       "        wealth_segment deceased_indicator  ... state    country  \\\n",
       "0        Mass Customer                  N  ...   QLD  Australia   \n",
       "1        Mass Customer                  N  ...   NSW  Australia   \n",
       "2    Affluent Customer                  N  ...   VIC  Australia   \n",
       "3    Affluent Customer                  N  ...   QLD  Australia   \n",
       "4    Affluent Customer                  N  ...   NSW  Australia   \n",
       "..                 ...                ...  ...   ...        ...   \n",
       "995  Affluent Customer                  N  ...   NSW  Australia   \n",
       "996      Mass Customer                  N  ...   NSW  Australia   \n",
       "997  Affluent Customer                  N  ...   QLD  Australia   \n",
       "998      Mass Customer                  N  ...   QLD  Australia   \n",
       "999      Mass Customer                  N  ...   NSW  Australia   \n",
       "\n",
       "    property_valuation  Unnamed: 17 Unnamed: 18 Unnamed: 19  Unnamed: 20  \\\n",
       "0                    6         0.92      1.1500     1.43750     1.221875   \n",
       "1                   11         1.00      1.0000     1.25000     1.062500   \n",
       "2                    5         0.90      0.9000     0.90000     0.900000   \n",
       "3                    1         1.03      1.2875     1.28750     1.287500   \n",
       "4                    9         0.78      0.7800     0.97500     0.975000   \n",
       "..                 ...          ...         ...         ...          ...   \n",
       "995                  7         0.90      0.9000     0.90000     0.900000   \n",
       "996                 10         0.91      0.9100     1.13750     0.966875   \n",
       "997                  2         0.45      0.5625     0.56250     0.562500   \n",
       "998                  2         0.55      0.6875     0.68750     0.584375   \n",
       "999                  9         1.06      1.3250     1.65625     1.407813   \n",
       "\n",
       "     Unnamed: 21  Rank     Value  \n",
       "0              1     1  1.718750  \n",
       "1              1     1  1.718750  \n",
       "2              1     1  1.718750  \n",
       "3              4     4  1.703125  \n",
       "4              4     4  1.703125  \n",
       "..           ...   ...       ...  \n",
       "995          996   996  0.374000  \n",
       "996          997   997  0.357000  \n",
       "997          997   997  0.357000  \n",
       "998          997   997  0.357000  \n",
       "999         1000  1000  0.340000  \n",
       "\n",
       "[1000 rows x 24 columns]"
      ]
     },
     "execution_count": 46,
     "metadata": {},
     "output_type": "execute_result"
    }
   ],
   "source": [
    "# read the xlsx file \n",
    "newcust = pd.read_excel('NewCustomerList.xlsx')\n",
    "newcust"
   ]
  },
  {
   "cell_type": "code",
   "execution_count": 47,
   "metadata": {},
   "outputs": [
    {
     "name": "stdout",
     "output_type": "stream",
     "text": [
      "[0, 29, 0, 0, 17, 0, 106, 165, 0, 0, 0, 0, 0, 0, 0, 0, 0, 0, 0, 0, 0, 0, 0, 0] 24\n"
     ]
    }
   ],
   "source": [
    "# check if there is NA for each columns\n",
    "\n",
    "def NA_checker():\n",
    "    res = []\n",
    "    temp = list(newcust)\n",
    "    for x in temp:\n",
    "        res.append(newcust[x].isna().sum())\n",
    "    return res\n",
    "\n",
    "listofNAN = NA_checker()\n",
    "print(listofNAN, len(listofNAN))"
   ]
  },
  {
   "cell_type": "code",
   "execution_count": 48,
   "metadata": {},
   "outputs": [
    {
     "data": {
      "text/plain": [
       "array(['Male', 'Female', 'U'], dtype=object)"
      ]
     },
     "execution_count": 48,
     "metadata": {},
     "output_type": "execute_result"
    }
   ],
   "source": [
    "newcust[\"gender\"].unique() \n",
    "# There is no F or M"
   ]
  },
  {
   "cell_type": "markdown",
   "metadata": {},
   "source": [
    "## Analysing the gender vs purchased bikes"
   ]
  },
  {
   "cell_type": "code",
   "execution_count": 49,
   "metadata": {},
   "outputs": [
    {
     "name": "stdout",
     "output_type": "stream",
     "text": [
      "[513, 470, 17]\n"
     ]
    }
   ],
   "source": [
    "# Let it be Female, Male, Unknown\n",
    "gender = [0,0,0] \n",
    "for each in newcust['gender']:\n",
    "    if each[0] == \"F\":\n",
    "        gender[0] += 1\n",
    "    elif each[0] == \"M\":\n",
    "        gender[1] += 1\n",
    "    else:\n",
    "        gender[2] += 1\n",
    "        \n",
    "print(gender)"
   ]
  },
  {
   "cell_type": "code",
   "execution_count": 50,
   "metadata": {},
   "outputs": [
    {
     "name": "stdout",
     "output_type": "stream",
     "text": [
      "[25212, 23765, 859]\n"
     ]
    }
   ],
   "source": [
    "# Let the first be Female and F, second be Male and M and lastly Unknown (U)\n",
    "bike = [0,0,0]\n",
    "bike[0] += newcust['past_3_years_bike_related_purchases'][newcust['gender'] == 'Female'].sum() \n",
    "bike[1] += newcust['past_3_years_bike_related_purchases'][newcust['gender'] == 'Male'].sum() \n",
    "bike[2] += newcust['past_3_years_bike_related_purchases'][newcust['gender'] == 'U'].sum()\n",
    "\n",
    "print(bike)"
   ]
  },
  {
   "cell_type": "code",
   "execution_count": 51,
   "metadata": {},
   "outputs": [
    {
     "data": {
      "image/png": "[encoded data removed]",
      "text/plain": [
       "<Figure size 432x288 with 1 Axes>"
      ]
     },
     "metadata": {
      "needs_background": "light"
     },
     "output_type": "display_data"
    }
   ],
   "source": [
    "graph0 = [gender[0], bike[0], gender[1], bike[1], gender[2], bike[2]]\n",
    "graph1 = [gender[0]*10, bike[0], gender[1]*10, bike[1], gender[2]*10, bike[2]]\n",
    "colour = (0.3,0.1,0.4,0.6)\n",
    "\n",
    "def gf(x, pos):\n",
    "    #'The two args are the value and gender'\n",
    "    return int(x)\n",
    "\n",
    "#scale gender up by 10 for clearer visualization\n",
    "formatter = FuncFormatter(gf)\n",
    "x = np.arange(6)\n",
    "fig, ax = plt.subplots()\n",
    "ax.set_ylabel('Number of people')\n",
    "ax.set_title('Gender and purchased bikes by gender')\n",
    "ax.yaxis.set_major_formatter(formatter)\n",
    "plt.bar(x, graph1, color = colour)\n",
    "for i in range(len(gender*2)):\n",
    "    plt.text(x = i-0.2, y = graph1[i]+0.1, s = graph0[i], size = 10)\n",
    "\n",
    "# F's P = Female's Purchase\n",
    "# M's P = Male's Purchase \n",
    "# U's P = Unknown's Purchase\n",
    "plt.xticks(x, ('Female', \"F's P\", 'Male', \"M's P\", 'Unknown', \"U's P\"))\n",
    "plt.show()"
   ]
  },
  {
   "cell_type": "code",
   "execution_count": 53,
   "metadata": {},
   "outputs": [
    {
     "data": {
      "image/png": "[encoded data removed]",
      "text/plain": [
       "<Figure size 432x288 with 1 Axes>"
      ]
     },
     "metadata": {
      "needs_background": "light"
     },
     "output_type": "display_data"
    }
   ],
   "source": [
    "# to calculate the percentage of purchased bikes classified by gender\n",
    "avg  = [0,0,0]\n",
    "total   = sum(bike)\n",
    "for i in range(len(avg)):\n",
    "    avg[i] += round((round(bike[i]/total,3)*100),3)\n",
    "\n",
    "x1 = np.arange(3)\n",
    "fig1, ax1 = plt.subplots()\n",
    "ax1.set_title('Percentage of purchased bikes classified by gender')\n",
    "ax1.set_ylabel('Percentage')\n",
    "plt.bar(x1, avg, color = colour)\n",
    "for i in range(len(avg)):\n",
    "    plt.text(x = i-0.15, y = avg[i], s = avg[i], size = 10)\n",
    "\n",
    "plt.xticks(x1, ('Female', 'Male', 'Unknown'))\n",
    "plt.show()"
   ]
  },
  {
   "cell_type": "code",
   "execution_count": 54,
   "metadata": {},
   "outputs": [
    {
     "name": "stdout",
     "output_type": "stream",
     "text": [
      "[513, 470, 17]\n"
     ]
    }
   ],
   "source": [
    "# to find out the average for female, male and unknown gender\n",
    "stdv = []\n",
    "total = 0\n",
    "temp = [0,0,0]\n",
    "\n",
    "for each in newcust['gender']:\n",
    "    j = 1\n",
    "    if each[0] == \"F\" and newcust['Age'][j] != 0:\n",
    "        total += newcust['Age'][j]\n",
    "        stdv.append((newcust['Age'][j]))\n",
    "        temp[0] += 1\n",
    "    elif each[0] == \"M\" and newcust['Age'][j] != 0:\n",
    "        total += newcust['Age'][j]\n",
    "        stdv.append((newcust['Age'][j]))\n",
    "        temp[1] += 1\n",
    "    elif newcust['Age'][j] != 0:\n",
    "        total += newcust['Age'][j]\n",
    "        stdv.append((newcust['Age'][j]))\n",
    "        temp[2] += 1\n",
    "    j+=1\n",
    "    \n",
    "print(temp)\n",
    "# since the count of unknown gender is relatively low compared to female and male, will not take into account of \n",
    "# gender u"
   ]
  },
  {
   "cell_type": "code",
   "execution_count": 60,
   "metadata": {},
   "outputs": [
    {
     "name": "stdout",
     "output_type": "stream",
     "text": [
      "48.0\n"
     ]
    }
   ],
   "source": [
    "# to calculate the average age in general\n",
    "average = round(total/(temp[0]+ temp[1]),0)\n",
    "stdv_val = 17.0\n",
    "print(average)"
   ]
  },
  {
   "cell_type": "markdown",
   "metadata": {},
   "source": [
    "The average age is 48\n",
    "The standard deviation of age is 17"
   ]
  },
  {
   "cell_type": "code",
   "execution_count": 68,
   "metadata": {},
   "outputs": [
    {
     "name": "stdout",
     "output_type": "stream",
     "text": [
      "25.0 48 59.0\n"
     ]
    }
   ],
   "source": [
    "#pruchases from age 42 - 34/2, 42, 42 + 34/2 \n",
    "age_dict = {}\n",
    "f1  = []\n",
    "bf1 = []\n",
    "f2  = []\n",
    "bf2 = []\n",
    "f3  = []\n",
    "bf3 = []\n",
    "f4  = []\n",
    "bf4 = []\n",
    "m1  = []\n",
    "bm1 = []\n",
    "m2  = []\n",
    "bm2 = []\n",
    "m3  = []\n",
    "bm3 = []\n",
    "m4  = []\n",
    "bm4 = []\n",
    "fq = 42-34/2\n",
    "sq = 48\n",
    "tq = 42+34/2\n",
    "print(fq, sq, tq)\n",
    "\n",
    "for each in newcust['gender']:\n",
    "    counter = 1\n",
    "    temp = int(newcust['Age'][counter])\n",
    "    bkt  = int(newcust['past_3_years_bike_related_purchases'][counter])\n",
    "    if each[0] == \"F\" and temp != 0:\n",
    "        if(temp <= fq):\n",
    "            f1.append(temp)\n",
    "            bf1.append(bkt)\n",
    "        elif(fq < temp and temp <= sq):\n",
    "            f2.append(temp)\n",
    "            bf2.append(bkt)\n",
    "        elif(sq < temp and temp <= tq):\n",
    "            f3.append(temp)\n",
    "            bf3.append(bkt)\n",
    "        elif(tq < temp):\n",
    "            f4.append(temp)\n",
    "            bf4.append(bkt)\n",
    "    elif each[0] == \"M\" and temp != 0:\n",
    "        if(temp <= fq):\n",
    "            m1.append(temp)\n",
    "            bm1.append(bkt)\n",
    "        elif(fq < temp and temp <= sq):\n",
    "            m2.append(temp)\n",
    "            bm2.append(bkt)\n",
    "        elif(sq < temp and temp <= tq):\n",
    "            m3.append(temp)\n",
    "            bm3.append(bkt)\n",
    "        elif(tq < temp):\n",
    "            m4.append(temp)\n",
    "            bm4.append(bkt)\n",
    "    counter += 1\n",
    "dtt = {\"Female1\":f1,\n",
    "       \"Female2\":f2,\n",
    "       \"Female3\":f3,\n",
    "       \"Female4\":f4,\n",
    "       \"Male1\":m1,\n",
    "       \"Male2\":m2,\n",
    "       \"Male3\":m3,\n",
    "       \"Male4\":m4,\n",
    "      }"
   ]
  },
  {
   "cell_type": "code",
   "execution_count": 69,
   "metadata": {},
   "outputs": [
    {
     "name": "stdout",
     "output_type": "stream",
     "text": [
      "61 205 100 147\n"
     ]
    }
   ],
   "source": [
    "print(len(dtt[\"Female1\"]), len(dtt[\"Female2\"]), len(dtt[\"Female3\"]), len(dtt[\"Female4\"]))"
   ]
  },
  {
   "cell_type": "code",
   "execution_count": 70,
   "metadata": {},
   "outputs": [
    {
     "name": "stdout",
     "output_type": "stream",
     "text": [
      "73 172 88 136\n"
     ]
    }
   ],
   "source": [
    "print(len(dtt[\"Male1\"]), len(dtt[\"Male2\"]), len(dtt[\"Male3\"]), len(dtt[\"Male4\"]))"
   ]
  },
  {
   "cell_type": "code",
   "execution_count": 71,
   "metadata": {},
   "outputs": [
    {
     "data": {
      "image/png": "[encoded data removed]",
      "text/plain": [
       "<Figure size 432x288 with 1 Axes>"
      ]
     },
     "metadata": {
      "needs_background": "light"
     },
     "output_type": "display_data"
    }
   ],
   "source": [
    "graphgen = [61, 73, 205, 172, 100, 88, 147, 136]\n",
    "colorr = (0.7,0.7,0.7,0.7)\n",
    "\n",
    "x2 = np.arange(8)\n",
    "fig2, ax2 = plt.subplots()\n",
    "ax2.set_ylabel('Number of people')\n",
    "plt.bar(x2, graphgen, color = colorr)\n",
    "for i in range(len(graphgen)):\n",
    "    plt.text(x = i-0.2, y = graphgen[i]+0.1, s = graphgen[i], size = 10)\n",
    "\n",
    "plt.xticks(x2, ('Fq1', \"Mq1\", 'Fq2', \"Mq2\", 'Fq3', \"Mq3\", 'Fq4', \"Mq4\"))\n",
    "plt.show()"
   ]
  },
  {
   "cell_type": "markdown",
   "metadata": {},
   "source": [
    "## Checking the job industry category of our new customer"
   ]
  },
  {
   "cell_type": "code",
   "execution_count": 72,
   "metadata": {},
   "outputs": [
    {
     "data": {
      "text/plain": [
       "Financial Services    203\n",
       "Manufacturing         199\n",
       "Health                152\n",
       "Retail                 78\n",
       "Property               64\n",
       "IT                     51\n",
       "Entertainment          37\n",
       "Argiculture            26\n",
       "Telecommunications     25\n",
       "Name: job_industry_category, dtype: int64"
      ]
     },
     "execution_count": 72,
     "metadata": {},
     "output_type": "execute_result"
    }
   ],
   "source": [
    "newcust[\"job_industry_category\"].value_counts()"
   ]
  },
  {
   "cell_type": "code",
   "execution_count": 78,
   "metadata": {},
   "outputs": [
    {
     "data": {
      "image/png": "[encoded data removed]",
      "text/plain": [
       "<Figure size 432x288 with 1 Axes>"
      ]
     },
     "metadata": {
      "needs_background": "light"
     },
     "output_type": "display_data"
    }
   ],
   "source": [
    "# plotting the bar chart\n",
    "val = [203, 199, 152, 78, 64, 51, 37, 26, 25]\n",
    "colorr = (0.7,0.7,0.7,0.7)\n",
    "\n",
    "x3 = np.arange(9)\n",
    "fig3, ax3 = plt.subplots()\n",
    "ax3.set_ylabel('Number of people')\n",
    "plt.bar(x3, val, color = colorr, width = 0.4)\n",
    "for i in range(len(val)):\n",
    "    plt.text(x = i-0.25, y = val[i]+0.1, s = val[i], size = 10)\n",
    "\n",
    "plt.xticks(x3, (\"Manufac\", \"Finance\", \"Health\", \"Retail\", \"Property\", \"IT\", \"Entertain\", \"Agricul\", \"Telecom\"))\n",
    "plt.xticks(rotation=70)\n",
    "plt.show()"
   ]
  },
  {
   "cell_type": "code",
   "execution_count": 74,
   "metadata": {},
   "outputs": [
    {
     "name": "stdout",
     "output_type": "stream",
     "text": [
      "Mass:  63 190 102 143\n",
      "High:  30 99 46 74\n",
      "Affluent:  41 88 106 0\n"
     ]
    }
   ],
   "source": [
    "#split into 3: M (Mass), H(High), A(Affluent)\n",
    "count = 1\n",
    "wsm = {\"q1\":[], \"q2\":[], \"q3\":[], \"q4\":[]}\n",
    "wsh = {\"q1\":[], \"q2\":[], \"q3\":[], \"q4\":[]}\n",
    "wsa = {\"q1\":[], \"q2\":[], \"q3\":[], \"q4\":[]}\n",
    "\n",
    "\n",
    "for each in CustomerDemo['wealth_segment']:\n",
    "    temp = int(CustomerDemo['Age'][count])\n",
    "    if each[0] == \"M\" and temp != 0:\n",
    "        if(temp <= fq):\n",
    "            wsm[\"q1\"].append(temp)\n",
    "        elif(fq < temp and temp <= sq):\n",
    "            wsm[\"q2\"].append(temp)\n",
    "        elif(sq < temp and temp <= tq):\n",
    "            wsm[\"q3\"].append(temp)\n",
    "        elif(tq < temp):\n",
    "            wsm[\"q4\"].append(temp)\n",
    "    elif each[0] == \"H\" and temp != 0:\n",
    "        if(temp <= fq):\n",
    "            wsh[\"q1\"].append(temp)\n",
    "        elif(fq < temp and temp <= sq):\n",
    "            wsh[\"q2\"].append(temp)\n",
    "        elif(sq < temp and temp <= tq):\n",
    "            wsh[\"q3\"].append(temp)\n",
    "        elif(tq < temp):\n",
    "            wsh[\"q4\"].append(temp)\n",
    "    elif each[0] == \"A\" and temp != 0:\n",
    "        if(temp <= fq):\n",
    "            wsa[\"q1\"].append(temp)\n",
    "        elif(fq < temp and temp <= sq):\n",
    "            wsa[\"q2\"].append(temp)\n",
    "        elif(sq < temp and temp <= tq):\n",
    "            wsa[\"q3\"].append(temp)\n",
    "        elif(tq < temp):\n",
    "            wsa[\"q3\"].append(temp)\n",
    "    count += 1\n",
    "print(\"Mass: \", len(wsm[\"q1\"]), len(wsm[\"q2\"]), len(wsm[\"q3\"]), len(wsm[\"q4\"]))\n",
    "print(\"High: \", len(wsh[\"q1\"]), len(wsh[\"q2\"]), len(wsh[\"q3\"]), len(wsh[\"q4\"]))\n",
    "print(\"Affluent: \", len(wsa[\"q1\"]), len(wsa[\"q2\"]), len(wsa[\"q3\"]), len(wsa[\"q4\"]))"
   ]
  },
  {
   "cell_type": "code",
   "execution_count": 76,
   "metadata": {},
   "outputs": [
    {
     "data": {
      "image/png": "[encoded data removed]",
      "text/plain": [
       "<Figure size 432x288 with 1 Axes>"
      ]
     },
     "metadata": {
      "needs_background": "light"
     },
     "output_type": "display_data"
    }
   ],
   "source": [
    "N = 4\n",
    "mass = [63, 190, 102, 143]\n",
    "high = [30, 99, 46, 74]\n",
    "affluent = [41, 88, 106, 0]\n",
    "\n",
    "bars = np.add(mass, high).tolist()\n",
    "r = [0,1,2,3,4]\n",
    "\n",
    "ind   = np.arange(N) \n",
    "width = 0.35       \n",
    "\n",
    "p1 = plt.bar(ind, mass, width)\n",
    "p2 = plt.bar(ind, high, width,  bottom=mass)\n",
    "p3 = plt.bar(ind, affluent, width,  bottom=bars)\n",
    "\n",
    "plt.ylabel('Number of people')\n",
    "plt.title('Wealth segments by age')\n",
    "plt.xticks(ind, ('q1', 'q2', 'q3', 'q4'))\n",
    "plt.yticks(np.arange(0, 500, 100))\n",
    "plt.legend((p1[0], p2[0], p3[0]), ('Mass', 'High Net', 'Affluent'))\n",
    "plt.show()"
   ]
  },
  {
   "cell_type": "markdown",
   "metadata": {},
   "source": [
    "## Checking how many of our new customer own a car"
   ]
  },
  {
   "cell_type": "code",
   "execution_count": 79,
   "metadata": {},
   "outputs": [
    {
     "data": {
      "text/plain": [
       "No     507\n",
       "Yes    493\n",
       "Name: owns_car, dtype: int64"
      ]
     },
     "execution_count": 79,
     "metadata": {},
     "output_type": "execute_result"
    }
   ],
   "source": [
    "newcust[\"owns_car\"].value_counts()"
   ]
  },
  {
   "cell_type": "code",
   "execution_count": 80,
   "metadata": {},
   "outputs": [
    {
     "data": {
      "image/png": "[encoded data removed]",
      "text/plain": [
       "<Figure size 432x288 with 1 Axes>"
      ]
     },
     "metadata": {},
     "output_type": "display_data"
    }
   ],
   "source": [
    "y = np.array([493, 507])\n",
    "mylabels = [\"Yes\", \"No\"]\n",
    "plt.pie(y, labels = mylabels)\n",
    "plt.show() "
   ]
  }
 ],
 "metadata": {
  "kernelspec": {
   "display_name": "Python 3",
   "language": "python",
   "name": "python3"
  },
  "language_info": {
   "codemirror_mode": {
    "name": "ipython",
    "version": 3
   },
   "file_extension": ".py",
   "mimetype": "text/x-python",
   "name": "python",
   "nbconvert_exporter": "python",
   "pygments_lexer": "ipython3",
   "version": "3.8.3"
  }
 },
 "nbformat": 4,
 "nbformat_minor": 4
}
